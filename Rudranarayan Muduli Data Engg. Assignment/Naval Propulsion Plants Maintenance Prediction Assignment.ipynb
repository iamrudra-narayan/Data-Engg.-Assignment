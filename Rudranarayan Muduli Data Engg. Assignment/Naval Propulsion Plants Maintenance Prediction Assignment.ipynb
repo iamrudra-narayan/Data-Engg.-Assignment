{
 "cells": [
  {
   "cell_type": "markdown",
   "id": "e1ce8cd6",
   "metadata": {},
   "source": [
    "# Naval Propulsion Plants Maintenance Prediction"
   ]
  },
  {
   "cell_type": "markdown",
   "id": "4174c81b",
   "metadata": {},
   "source": [
    "1. Introduction\n",
    "2. Explaratory Data Analysis\n",
    "3. Data Processing\n",
    "4. Model Selection\n",
    "5. Final Prediction\n",
    "6. Conclusion"
   ]
  },
  {
   "cell_type": "markdown",
   "id": "bb83af3c",
   "metadata": {},
   "source": [
    "# 1. Introduction"
   ]
  },
  {
   "cell_type": "markdown",
   "id": "d4ef5b3e",
   "metadata": {},
   "source": [
    "This work is inspired by paper Condition-Based Maintenance of Naval Propulsion Systems with Supervised Data Analysis.\n",
    "\n",
    "The main issue explored within the project work is Preventive Maintenance, a service concept, that implies the life cycle estimation of a certain component. In comparison with the Corrective Maintenance, the PM allows to ensure a component service, repair or substitution before its breakdown, that can raise the efficiency level and reduce costs.\n",
    "\n",
    "In the current work, the Gas Turbine and Compressor decay state coefficients are estimated based on number of propulsion system parameters: shaft torque, rate of revolutions, compressor inlet air temperature and pressure, turbine injection control and fuel flow. To build an estimator, the ML and DL techniques are applied."
   ]
  },
  {
   "cell_type": "code",
   "execution_count": 1,
   "id": "c5e51975",
   "metadata": {},
   "outputs": [],
   "source": [
    "# Impoorting required libraries.\n",
    "import numpy as np\n",
    "import pandas as pd\n",
    "import seaborn as sns\n",
    "import matplotlib.pyplot as plt\n",
    "\n",
    "import warnings\n",
    "warnings.filterwarnings('ignore')"
   ]
  },
  {
   "cell_type": "markdown",
   "id": "d352d846",
   "metadata": {},
   "source": [
    "# Reading the Data"
   ]
  },
  {
   "cell_type": "code",
   "execution_count": 2,
   "id": "a2a7bffa",
   "metadata": {},
   "outputs": [
    {
     "data": {
      "text/html": [
       "<div>\n",
       "<style scoped>\n",
       "    .dataframe tbody tr th:only-of-type {\n",
       "        vertical-align: middle;\n",
       "    }\n",
       "\n",
       "    .dataframe tbody tr th {\n",
       "        vertical-align: top;\n",
       "    }\n",
       "\n",
       "    .dataframe thead th {\n",
       "        text-align: right;\n",
       "    }\n",
       "</style>\n",
       "<table border=\"1\" class=\"dataframe\">\n",
       "  <thead>\n",
       "    <tr style=\"text-align: right;\">\n",
       "      <th></th>\n",
       "      <th>Lever position</th>\n",
       "      <th>Ship speed (v)</th>\n",
       "      <th>Gas Turbine (GT) shaft torque (GTT) [kN m]</th>\n",
       "      <th>GT rate of revolutions (GTn) [rpm]</th>\n",
       "      <th>Gas Generator rate of revolutions (GGn) [rpm]</th>\n",
       "      <th>Starboard Propeller Torque (Ts) [kN]</th>\n",
       "      <th>Port Propeller Torque (Tp) [kN]</th>\n",
       "      <th>Hight Pressure (HP) Turbine exit temperature (T48) [C]</th>\n",
       "      <th>GT Compressor inlet air temperature (T1) [C]</th>\n",
       "      <th>GT Compressor outlet air temperature (T2) [C]</th>\n",
       "      <th>HP Turbine exit pressure (P48) [bar]</th>\n",
       "      <th>GT Compressor inlet air pressure (P1) [bar]</th>\n",
       "      <th>GT Compressor outlet air pressure (P2) [bar]</th>\n",
       "      <th>GT exhaust gas pressure (Pexh) [bar]</th>\n",
       "      <th>Turbine Injecton Control (TIC) [%]</th>\n",
       "      <th>Fuel flow (mf) [kg/s]</th>\n",
       "      <th>GT Compressor decay state coefficient</th>\n",
       "      <th>GT Turbine decay state coefficient</th>\n",
       "    </tr>\n",
       "  </thead>\n",
       "  <tbody>\n",
       "    <tr>\n",
       "      <th>0</th>\n",
       "      <td>1.138</td>\n",
       "      <td>3</td>\n",
       "      <td>289.964</td>\n",
       "      <td>1349.489</td>\n",
       "      <td>6677.380</td>\n",
       "      <td>7.584</td>\n",
       "      <td>7.584</td>\n",
       "      <td>464.006</td>\n",
       "      <td>288</td>\n",
       "      <td>550.563</td>\n",
       "      <td>1.096</td>\n",
       "      <td>0.998</td>\n",
       "      <td>5.947</td>\n",
       "      <td>1.019</td>\n",
       "      <td>7.137</td>\n",
       "      <td>0.082</td>\n",
       "      <td>0.95</td>\n",
       "      <td>0.975</td>\n",
       "    </tr>\n",
       "    <tr>\n",
       "      <th>1</th>\n",
       "      <td>2.088</td>\n",
       "      <td>6</td>\n",
       "      <td>6960.180</td>\n",
       "      <td>1376.166</td>\n",
       "      <td>6828.469</td>\n",
       "      <td>28.204</td>\n",
       "      <td>28.204</td>\n",
       "      <td>635.401</td>\n",
       "      <td>288</td>\n",
       "      <td>581.658</td>\n",
       "      <td>1.331</td>\n",
       "      <td>0.998</td>\n",
       "      <td>7.282</td>\n",
       "      <td>1.019</td>\n",
       "      <td>10.655</td>\n",
       "      <td>0.287</td>\n",
       "      <td>0.95</td>\n",
       "      <td>0.975</td>\n",
       "    </tr>\n",
       "    <tr>\n",
       "      <th>2</th>\n",
       "      <td>3.144</td>\n",
       "      <td>9</td>\n",
       "      <td>8379.229</td>\n",
       "      <td>1386.757</td>\n",
       "      <td>7111.811</td>\n",
       "      <td>60.358</td>\n",
       "      <td>60.358</td>\n",
       "      <td>606.002</td>\n",
       "      <td>288</td>\n",
       "      <td>587.587</td>\n",
       "      <td>1.389</td>\n",
       "      <td>0.998</td>\n",
       "      <td>7.574</td>\n",
       "      <td>1.020</td>\n",
       "      <td>13.086</td>\n",
       "      <td>0.259</td>\n",
       "      <td>0.95</td>\n",
       "      <td>0.975</td>\n",
       "    </tr>\n",
       "    <tr>\n",
       "      <th>3</th>\n",
       "      <td>4.161</td>\n",
       "      <td>12</td>\n",
       "      <td>14724.395</td>\n",
       "      <td>1547.465</td>\n",
       "      <td>7792.630</td>\n",
       "      <td>113.774</td>\n",
       "      <td>113.774</td>\n",
       "      <td>661.471</td>\n",
       "      <td>288</td>\n",
       "      <td>613.851</td>\n",
       "      <td>1.658</td>\n",
       "      <td>0.998</td>\n",
       "      <td>9.007</td>\n",
       "      <td>1.022</td>\n",
       "      <td>18.109</td>\n",
       "      <td>0.358</td>\n",
       "      <td>0.95</td>\n",
       "      <td>0.975</td>\n",
       "    </tr>\n",
       "  </tbody>\n",
       "</table>\n",
       "</div>"
      ],
      "text/plain": [
       "   Lever position   Ship speed (v)   \\\n",
       "0            1.138                3   \n",
       "1            2.088                6   \n",
       "2            3.144                9   \n",
       "3            4.161               12   \n",
       "\n",
       "   Gas Turbine (GT) shaft torque (GTT) [kN m]    \\\n",
       "0                                       289.964   \n",
       "1                                      6960.180   \n",
       "2                                      8379.229   \n",
       "3                                     14724.395   \n",
       "\n",
       "   GT rate of revolutions (GTn) [rpm]    \\\n",
       "0                              1349.489   \n",
       "1                              1376.166   \n",
       "2                              1386.757   \n",
       "3                              1547.465   \n",
       "\n",
       "   Gas Generator rate of revolutions (GGn) [rpm]    \\\n",
       "0                                         6677.380   \n",
       "1                                         6828.469   \n",
       "2                                         7111.811   \n",
       "3                                         7792.630   \n",
       "\n",
       "   Starboard Propeller Torque (Ts) [kN]    Port Propeller Torque (Tp) [kN]    \\\n",
       "0                                   7.584                              7.584   \n",
       "1                                  28.204                             28.204   \n",
       "2                                  60.358                             60.358   \n",
       "3                                 113.774                            113.774   \n",
       "\n",
       "   Hight Pressure (HP) Turbine exit temperature (T48) [C]    \\\n",
       "0                                            464.006          \n",
       "1                                            635.401          \n",
       "2                                            606.002          \n",
       "3                                            661.471          \n",
       "\n",
       "   GT Compressor inlet air temperature (T1) [C]    \\\n",
       "0                                             288   \n",
       "1                                             288   \n",
       "2                                             288   \n",
       "3                                             288   \n",
       "\n",
       "   GT Compressor outlet air temperature (T2) [C]    \\\n",
       "0                                          550.563   \n",
       "1                                          581.658   \n",
       "2                                          587.587   \n",
       "3                                          613.851   \n",
       "\n",
       "   HP Turbine exit pressure (P48) [bar]    \\\n",
       "0                                   1.096   \n",
       "1                                   1.331   \n",
       "2                                   1.389   \n",
       "3                                   1.658   \n",
       "\n",
       "   GT Compressor inlet air pressure (P1) [bar]    \\\n",
       "0                                          0.998   \n",
       "1                                          0.998   \n",
       "2                                          0.998   \n",
       "3                                          0.998   \n",
       "\n",
       "   GT Compressor outlet air pressure (P2) [bar]    \\\n",
       "0                                           5.947   \n",
       "1                                           7.282   \n",
       "2                                           7.574   \n",
       "3                                           9.007   \n",
       "\n",
       "   GT exhaust gas pressure (Pexh) [bar]    \\\n",
       "0                                   1.019   \n",
       "1                                   1.019   \n",
       "2                                   1.020   \n",
       "3                                   1.022   \n",
       "\n",
       "   Turbine Injecton Control (TIC) [%]    Fuel flow (mf) [kg/s]    \\\n",
       "0                                 7.137                    0.082   \n",
       "1                                10.655                    0.287   \n",
       "2                                13.086                    0.259   \n",
       "3                                18.109                    0.358   \n",
       "\n",
       "   GT Compressor decay state coefficient    \\\n",
       "0                                     0.95   \n",
       "1                                     0.95   \n",
       "2                                     0.95   \n",
       "3                                     0.95   \n",
       "\n",
       "   GT Turbine decay state coefficient   \n",
       "0                                0.975  \n",
       "1                                0.975  \n",
       "2                                0.975  \n",
       "3                                0.975  "
      ]
     },
     "execution_count": 2,
     "metadata": {},
     "output_type": "execute_result"
    }
   ],
   "source": [
    "df = pd.read_csv(\"assignment-dataset.csv\")\n",
    "df.drop('index', axis=1, inplace=True)\n",
    "df.head(4)"
   ]
  },
  {
   "cell_type": "code",
   "execution_count": 3,
   "id": "f77cf67f",
   "metadata": {},
   "outputs": [
    {
     "data": {
      "text/plain": [
       "Index(['Lever position ', 'Ship speed (v) ',\n",
       "       'Gas Turbine (GT) shaft torque (GTT) [kN m]  ',\n",
       "       'GT rate of revolutions (GTn) [rpm]  ',\n",
       "       'Gas Generator rate of revolutions (GGn) [rpm]  ',\n",
       "       'Starboard Propeller Torque (Ts) [kN]  ',\n",
       "       'Port Propeller Torque (Tp) [kN]  ',\n",
       "       'Hight Pressure (HP) Turbine exit temperature (T48) [C]  ',\n",
       "       'GT Compressor inlet air temperature (T1) [C]  ',\n",
       "       'GT Compressor outlet air temperature (T2) [C]  ',\n",
       "       'HP Turbine exit pressure (P48) [bar]  ',\n",
       "       'GT Compressor inlet air pressure (P1) [bar]  ',\n",
       "       'GT Compressor outlet air pressure (P2) [bar]  ',\n",
       "       'GT exhaust gas pressure (Pexh) [bar]  ',\n",
       "       'Turbine Injecton Control (TIC) [%]  ', 'Fuel flow (mf) [kg/s]  ',\n",
       "       'GT Compressor decay state coefficient  ',\n",
       "       'GT Turbine decay state coefficient '],\n",
       "      dtype='object')"
      ]
     },
     "execution_count": 3,
     "metadata": {},
     "output_type": "execute_result"
    }
   ],
   "source": [
    "df.columns"
   ]
  },
  {
   "cell_type": "code",
   "execution_count": 4,
   "id": "fd8b000d",
   "metadata": {},
   "outputs": [
    {
     "data": {
      "text/html": [
       "<div>\n",
       "<style scoped>\n",
       "    .dataframe tbody tr th:only-of-type {\n",
       "        vertical-align: middle;\n",
       "    }\n",
       "\n",
       "    .dataframe tbody tr th {\n",
       "        vertical-align: top;\n",
       "    }\n",
       "\n",
       "    .dataframe thead th {\n",
       "        text-align: right;\n",
       "    }\n",
       "</style>\n",
       "<table border=\"1\" class=\"dataframe\">\n",
       "  <thead>\n",
       "    <tr style=\"text-align: right;\">\n",
       "      <th></th>\n",
       "      <th>lp</th>\n",
       "      <th>v</th>\n",
       "      <th>gtt</th>\n",
       "      <th>gtn</th>\n",
       "      <th>ggn</th>\n",
       "      <th>ts</th>\n",
       "      <th>tp</th>\n",
       "      <th>t48</th>\n",
       "      <th>t1</th>\n",
       "      <th>t2</th>\n",
       "      <th>p48</th>\n",
       "      <th>p1</th>\n",
       "      <th>p2</th>\n",
       "      <th>pexh</th>\n",
       "      <th>tic</th>\n",
       "      <th>mf</th>\n",
       "      <th>y_1</th>\n",
       "      <th>y_2</th>\n",
       "    </tr>\n",
       "  </thead>\n",
       "  <tbody>\n",
       "    <tr>\n",
       "      <th>0</th>\n",
       "      <td>1.138</td>\n",
       "      <td>3</td>\n",
       "      <td>289.964</td>\n",
       "      <td>1349.489</td>\n",
       "      <td>6677.380</td>\n",
       "      <td>7.584</td>\n",
       "      <td>7.584</td>\n",
       "      <td>464.006</td>\n",
       "      <td>288</td>\n",
       "      <td>550.563</td>\n",
       "      <td>1.096</td>\n",
       "      <td>0.998</td>\n",
       "      <td>5.947</td>\n",
       "      <td>1.019</td>\n",
       "      <td>7.137</td>\n",
       "      <td>0.082</td>\n",
       "      <td>0.95</td>\n",
       "      <td>0.975</td>\n",
       "    </tr>\n",
       "    <tr>\n",
       "      <th>1</th>\n",
       "      <td>2.088</td>\n",
       "      <td>6</td>\n",
       "      <td>6960.180</td>\n",
       "      <td>1376.166</td>\n",
       "      <td>6828.469</td>\n",
       "      <td>28.204</td>\n",
       "      <td>28.204</td>\n",
       "      <td>635.401</td>\n",
       "      <td>288</td>\n",
       "      <td>581.658</td>\n",
       "      <td>1.331</td>\n",
       "      <td>0.998</td>\n",
       "      <td>7.282</td>\n",
       "      <td>1.019</td>\n",
       "      <td>10.655</td>\n",
       "      <td>0.287</td>\n",
       "      <td>0.95</td>\n",
       "      <td>0.975</td>\n",
       "    </tr>\n",
       "    <tr>\n",
       "      <th>2</th>\n",
       "      <td>3.144</td>\n",
       "      <td>9</td>\n",
       "      <td>8379.229</td>\n",
       "      <td>1386.757</td>\n",
       "      <td>7111.811</td>\n",
       "      <td>60.358</td>\n",
       "      <td>60.358</td>\n",
       "      <td>606.002</td>\n",
       "      <td>288</td>\n",
       "      <td>587.587</td>\n",
       "      <td>1.389</td>\n",
       "      <td>0.998</td>\n",
       "      <td>7.574</td>\n",
       "      <td>1.020</td>\n",
       "      <td>13.086</td>\n",
       "      <td>0.259</td>\n",
       "      <td>0.95</td>\n",
       "      <td>0.975</td>\n",
       "    </tr>\n",
       "  </tbody>\n",
       "</table>\n",
       "</div>"
      ],
      "text/plain": [
       "      lp  v       gtt       gtn       ggn      ts      tp      t48   t1  \\\n",
       "0  1.138  3   289.964  1349.489  6677.380   7.584   7.584  464.006  288   \n",
       "1  2.088  6  6960.180  1376.166  6828.469  28.204  28.204  635.401  288   \n",
       "2  3.144  9  8379.229  1386.757  7111.811  60.358  60.358  606.002  288   \n",
       "\n",
       "        t2    p48     p1     p2   pexh     tic     mf   y_1    y_2  \n",
       "0  550.563  1.096  0.998  5.947  1.019   7.137  0.082  0.95  0.975  \n",
       "1  581.658  1.331  0.998  7.282  1.019  10.655  0.287  0.95  0.975  \n",
       "2  587.587  1.389  0.998  7.574  1.020  13.086  0.259  0.95  0.975  "
      ]
     },
     "execution_count": 4,
     "metadata": {},
     "output_type": "execute_result"
    }
   ],
   "source": [
    "df.columns = ['lp', 'v', 'gtt', 'gtn', 'ggn', 'ts', 'tp', 't48',\n",
    "                                  't1', 't2', 'p48', 'p1', 'p2', 'pexh', 'tic', 'mf', 'y_1', 'y_2']\n",
    "df.head(3)"
   ]
  },
  {
   "cell_type": "markdown",
   "id": "6b0d7ae9",
   "metadata": {},
   "source": [
    "# 2. Exploratory Data Analysis"
   ]
  },
  {
   "cell_type": "code",
   "execution_count": 5,
   "id": "f5927c7c",
   "metadata": {},
   "outputs": [
    {
     "data": {
      "text/plain": [
       "(11934, 18)"
      ]
     },
     "execution_count": 5,
     "metadata": {},
     "output_type": "execute_result"
    }
   ],
   "source": [
    "df.shape"
   ]
  },
  {
   "cell_type": "code",
   "execution_count": 6,
   "id": "ebc5fcfb",
   "metadata": {},
   "outputs": [
    {
     "data": {
      "text/html": [
       "<div>\n",
       "<style scoped>\n",
       "    .dataframe tbody tr th:only-of-type {\n",
       "        vertical-align: middle;\n",
       "    }\n",
       "\n",
       "    .dataframe tbody tr th {\n",
       "        vertical-align: top;\n",
       "    }\n",
       "\n",
       "    .dataframe thead th {\n",
       "        text-align: right;\n",
       "    }\n",
       "</style>\n",
       "<table border=\"1\" class=\"dataframe\">\n",
       "  <thead>\n",
       "    <tr style=\"text-align: right;\">\n",
       "      <th></th>\n",
       "      <th>lp</th>\n",
       "      <th>v</th>\n",
       "      <th>gtt</th>\n",
       "      <th>gtn</th>\n",
       "      <th>ggn</th>\n",
       "      <th>ts</th>\n",
       "      <th>tp</th>\n",
       "      <th>t48</th>\n",
       "      <th>t1</th>\n",
       "      <th>t2</th>\n",
       "      <th>p48</th>\n",
       "      <th>p1</th>\n",
       "      <th>p2</th>\n",
       "      <th>pexh</th>\n",
       "      <th>tic</th>\n",
       "      <th>mf</th>\n",
       "      <th>y_1</th>\n",
       "      <th>y_2</th>\n",
       "    </tr>\n",
       "  </thead>\n",
       "  <tbody>\n",
       "    <tr>\n",
       "      <th>count</th>\n",
       "      <td>11934.000000</td>\n",
       "      <td>11934.000000</td>\n",
       "      <td>11934.000000</td>\n",
       "      <td>11934.000000</td>\n",
       "      <td>11934.000000</td>\n",
       "      <td>11934.000000</td>\n",
       "      <td>11934.000000</td>\n",
       "      <td>11934.000000</td>\n",
       "      <td>11934.0</td>\n",
       "      <td>11934.000000</td>\n",
       "      <td>11934.000000</td>\n",
       "      <td>1.193400e+04</td>\n",
       "      <td>11934.000000</td>\n",
       "      <td>11934.000000</td>\n",
       "      <td>11934.000000</td>\n",
       "      <td>11934.000000</td>\n",
       "      <td>11934.00000</td>\n",
       "      <td>11934.0000</td>\n",
       "    </tr>\n",
       "    <tr>\n",
       "      <th>mean</th>\n",
       "      <td>5.166667</td>\n",
       "      <td>15.000000</td>\n",
       "      <td>27247.498685</td>\n",
       "      <td>2136.289256</td>\n",
       "      <td>8200.947312</td>\n",
       "      <td>227.335768</td>\n",
       "      <td>227.335768</td>\n",
       "      <td>735.495446</td>\n",
       "      <td>288.0</td>\n",
       "      <td>646.215331</td>\n",
       "      <td>2.352963</td>\n",
       "      <td>9.980000e-01</td>\n",
       "      <td>12.297123</td>\n",
       "      <td>1.029474</td>\n",
       "      <td>33.641261</td>\n",
       "      <td>0.662440</td>\n",
       "      <td>0.97500</td>\n",
       "      <td>0.9875</td>\n",
       "    </tr>\n",
       "    <tr>\n",
       "      <th>std</th>\n",
       "      <td>2.626388</td>\n",
       "      <td>7.746291</td>\n",
       "      <td>22148.613155</td>\n",
       "      <td>774.083881</td>\n",
       "      <td>1091.315507</td>\n",
       "      <td>200.495889</td>\n",
       "      <td>200.495889</td>\n",
       "      <td>173.680552</td>\n",
       "      <td>0.0</td>\n",
       "      <td>72.675882</td>\n",
       "      <td>1.084770</td>\n",
       "      <td>2.220539e-16</td>\n",
       "      <td>5.337448</td>\n",
       "      <td>0.010390</td>\n",
       "      <td>25.841363</td>\n",
       "      <td>0.507132</td>\n",
       "      <td>0.01472</td>\n",
       "      <td>0.0075</td>\n",
       "    </tr>\n",
       "    <tr>\n",
       "      <th>min</th>\n",
       "      <td>1.138000</td>\n",
       "      <td>3.000000</td>\n",
       "      <td>253.547000</td>\n",
       "      <td>1307.675000</td>\n",
       "      <td>6589.002000</td>\n",
       "      <td>5.304000</td>\n",
       "      <td>5.304000</td>\n",
       "      <td>442.364000</td>\n",
       "      <td>288.0</td>\n",
       "      <td>540.442000</td>\n",
       "      <td>1.093000</td>\n",
       "      <td>9.980000e-01</td>\n",
       "      <td>5.828000</td>\n",
       "      <td>1.019000</td>\n",
       "      <td>0.000000</td>\n",
       "      <td>0.068000</td>\n",
       "      <td>0.95000</td>\n",
       "      <td>0.9750</td>\n",
       "    </tr>\n",
       "    <tr>\n",
       "      <th>25%</th>\n",
       "      <td>3.144000</td>\n",
       "      <td>9.000000</td>\n",
       "      <td>8375.883750</td>\n",
       "      <td>1386.758000</td>\n",
       "      <td>7058.324000</td>\n",
       "      <td>60.317000</td>\n",
       "      <td>60.317000</td>\n",
       "      <td>589.872750</td>\n",
       "      <td>288.0</td>\n",
       "      <td>578.092250</td>\n",
       "      <td>1.389000</td>\n",
       "      <td>9.980000e-01</td>\n",
       "      <td>7.447250</td>\n",
       "      <td>1.020000</td>\n",
       "      <td>13.677500</td>\n",
       "      <td>0.246000</td>\n",
       "      <td>0.96200</td>\n",
       "      <td>0.9810</td>\n",
       "    </tr>\n",
       "    <tr>\n",
       "      <th>50%</th>\n",
       "      <td>5.140000</td>\n",
       "      <td>15.000000</td>\n",
       "      <td>21630.659000</td>\n",
       "      <td>1924.326000</td>\n",
       "      <td>8482.081500</td>\n",
       "      <td>175.268000</td>\n",
       "      <td>175.268000</td>\n",
       "      <td>706.038000</td>\n",
       "      <td>288.0</td>\n",
       "      <td>637.141500</td>\n",
       "      <td>2.083000</td>\n",
       "      <td>9.980000e-01</td>\n",
       "      <td>11.092000</td>\n",
       "      <td>1.026000</td>\n",
       "      <td>25.276500</td>\n",
       "      <td>0.496000</td>\n",
       "      <td>0.97500</td>\n",
       "      <td>0.9875</td>\n",
       "    </tr>\n",
       "    <tr>\n",
       "      <th>75%</th>\n",
       "      <td>7.148000</td>\n",
       "      <td>21.000000</td>\n",
       "      <td>39001.426750</td>\n",
       "      <td>2678.079000</td>\n",
       "      <td>9132.606000</td>\n",
       "      <td>332.364750</td>\n",
       "      <td>332.364750</td>\n",
       "      <td>834.066250</td>\n",
       "      <td>288.0</td>\n",
       "      <td>693.924500</td>\n",
       "      <td>2.981000</td>\n",
       "      <td>9.980000e-01</td>\n",
       "      <td>15.658000</td>\n",
       "      <td>1.036000</td>\n",
       "      <td>44.552500</td>\n",
       "      <td>0.882000</td>\n",
       "      <td>0.98800</td>\n",
       "      <td>0.9940</td>\n",
       "    </tr>\n",
       "    <tr>\n",
       "      <th>max</th>\n",
       "      <td>9.300000</td>\n",
       "      <td>27.000000</td>\n",
       "      <td>72784.872000</td>\n",
       "      <td>3560.741000</td>\n",
       "      <td>9797.103000</td>\n",
       "      <td>645.249000</td>\n",
       "      <td>645.249000</td>\n",
       "      <td>1115.797000</td>\n",
       "      <td>288.0</td>\n",
       "      <td>789.094000</td>\n",
       "      <td>4.560000</td>\n",
       "      <td>9.980000e-01</td>\n",
       "      <td>23.140000</td>\n",
       "      <td>1.052000</td>\n",
       "      <td>92.556000</td>\n",
       "      <td>1.832000</td>\n",
       "      <td>1.00000</td>\n",
       "      <td>1.0000</td>\n",
       "    </tr>\n",
       "  </tbody>\n",
       "</table>\n",
       "</div>"
      ],
      "text/plain": [
       "                 lp             v           gtt           gtn           ggn  \\\n",
       "count  11934.000000  11934.000000  11934.000000  11934.000000  11934.000000   \n",
       "mean       5.166667     15.000000  27247.498685   2136.289256   8200.947312   \n",
       "std        2.626388      7.746291  22148.613155    774.083881   1091.315507   \n",
       "min        1.138000      3.000000    253.547000   1307.675000   6589.002000   \n",
       "25%        3.144000      9.000000   8375.883750   1386.758000   7058.324000   \n",
       "50%        5.140000     15.000000  21630.659000   1924.326000   8482.081500   \n",
       "75%        7.148000     21.000000  39001.426750   2678.079000   9132.606000   \n",
       "max        9.300000     27.000000  72784.872000   3560.741000   9797.103000   \n",
       "\n",
       "                 ts            tp           t48       t1            t2  \\\n",
       "count  11934.000000  11934.000000  11934.000000  11934.0  11934.000000   \n",
       "mean     227.335768    227.335768    735.495446    288.0    646.215331   \n",
       "std      200.495889    200.495889    173.680552      0.0     72.675882   \n",
       "min        5.304000      5.304000    442.364000    288.0    540.442000   \n",
       "25%       60.317000     60.317000    589.872750    288.0    578.092250   \n",
       "50%      175.268000    175.268000    706.038000    288.0    637.141500   \n",
       "75%      332.364750    332.364750    834.066250    288.0    693.924500   \n",
       "max      645.249000    645.249000   1115.797000    288.0    789.094000   \n",
       "\n",
       "                p48            p1            p2          pexh           tic  \\\n",
       "count  11934.000000  1.193400e+04  11934.000000  11934.000000  11934.000000   \n",
       "mean       2.352963  9.980000e-01     12.297123      1.029474     33.641261   \n",
       "std        1.084770  2.220539e-16      5.337448      0.010390     25.841363   \n",
       "min        1.093000  9.980000e-01      5.828000      1.019000      0.000000   \n",
       "25%        1.389000  9.980000e-01      7.447250      1.020000     13.677500   \n",
       "50%        2.083000  9.980000e-01     11.092000      1.026000     25.276500   \n",
       "75%        2.981000  9.980000e-01     15.658000      1.036000     44.552500   \n",
       "max        4.560000  9.980000e-01     23.140000      1.052000     92.556000   \n",
       "\n",
       "                 mf          y_1         y_2  \n",
       "count  11934.000000  11934.00000  11934.0000  \n",
       "mean       0.662440      0.97500      0.9875  \n",
       "std        0.507132      0.01472      0.0075  \n",
       "min        0.068000      0.95000      0.9750  \n",
       "25%        0.246000      0.96200      0.9810  \n",
       "50%        0.496000      0.97500      0.9875  \n",
       "75%        0.882000      0.98800      0.9940  \n",
       "max        1.832000      1.00000      1.0000  "
      ]
     },
     "execution_count": 6,
     "metadata": {},
     "output_type": "execute_result"
    }
   ],
   "source": [
    "df.describe()"
   ]
  },
  {
   "cell_type": "markdown",
   "id": "130de19f",
   "metadata": {},
   "source": [
    "Judging by the data main statistics, the t1 and p1 features (the GT compressor inlet air temperature and pressure) are constant at the levels of 288 degrees Celcium and 9.980 bars respectively, so these features can be omitted during the analysis."
   ]
  },
  {
   "cell_type": "code",
   "execution_count": 7,
   "id": "c90e91a5",
   "metadata": {},
   "outputs": [
    {
     "data": {
      "text/html": [
       "<div>\n",
       "<style scoped>\n",
       "    .dataframe tbody tr th:only-of-type {\n",
       "        vertical-align: middle;\n",
       "    }\n",
       "\n",
       "    .dataframe tbody tr th {\n",
       "        vertical-align: top;\n",
       "    }\n",
       "\n",
       "    .dataframe thead th {\n",
       "        text-align: right;\n",
       "    }\n",
       "</style>\n",
       "<table border=\"1\" class=\"dataframe\">\n",
       "  <thead>\n",
       "    <tr style=\"text-align: right;\">\n",
       "      <th></th>\n",
       "      <th>lp</th>\n",
       "      <th>v</th>\n",
       "      <th>gtt</th>\n",
       "      <th>gtn</th>\n",
       "      <th>ggn</th>\n",
       "      <th>ts</th>\n",
       "      <th>tp</th>\n",
       "      <th>t48</th>\n",
       "      <th>t2</th>\n",
       "      <th>p48</th>\n",
       "      <th>p2</th>\n",
       "      <th>pexh</th>\n",
       "      <th>tic</th>\n",
       "      <th>mf</th>\n",
       "      <th>y_1</th>\n",
       "      <th>y_2</th>\n",
       "    </tr>\n",
       "  </thead>\n",
       "  <tbody>\n",
       "    <tr>\n",
       "      <th>0</th>\n",
       "      <td>1.138</td>\n",
       "      <td>3</td>\n",
       "      <td>289.964</td>\n",
       "      <td>1349.489</td>\n",
       "      <td>6677.380</td>\n",
       "      <td>7.584</td>\n",
       "      <td>7.584</td>\n",
       "      <td>464.006</td>\n",
       "      <td>550.563</td>\n",
       "      <td>1.096</td>\n",
       "      <td>5.947</td>\n",
       "      <td>1.019</td>\n",
       "      <td>7.137</td>\n",
       "      <td>0.082</td>\n",
       "      <td>0.95</td>\n",
       "      <td>0.975</td>\n",
       "    </tr>\n",
       "    <tr>\n",
       "      <th>1</th>\n",
       "      <td>2.088</td>\n",
       "      <td>6</td>\n",
       "      <td>6960.180</td>\n",
       "      <td>1376.166</td>\n",
       "      <td>6828.469</td>\n",
       "      <td>28.204</td>\n",
       "      <td>28.204</td>\n",
       "      <td>635.401</td>\n",
       "      <td>581.658</td>\n",
       "      <td>1.331</td>\n",
       "      <td>7.282</td>\n",
       "      <td>1.019</td>\n",
       "      <td>10.655</td>\n",
       "      <td>0.287</td>\n",
       "      <td>0.95</td>\n",
       "      <td>0.975</td>\n",
       "    </tr>\n",
       "    <tr>\n",
       "      <th>2</th>\n",
       "      <td>3.144</td>\n",
       "      <td>9</td>\n",
       "      <td>8379.229</td>\n",
       "      <td>1386.757</td>\n",
       "      <td>7111.811</td>\n",
       "      <td>60.358</td>\n",
       "      <td>60.358</td>\n",
       "      <td>606.002</td>\n",
       "      <td>587.587</td>\n",
       "      <td>1.389</td>\n",
       "      <td>7.574</td>\n",
       "      <td>1.020</td>\n",
       "      <td>13.086</td>\n",
       "      <td>0.259</td>\n",
       "      <td>0.95</td>\n",
       "      <td>0.975</td>\n",
       "    </tr>\n",
       "  </tbody>\n",
       "</table>\n",
       "</div>"
      ],
      "text/plain": [
       "      lp  v       gtt       gtn       ggn      ts      tp      t48       t2  \\\n",
       "0  1.138  3   289.964  1349.489  6677.380   7.584   7.584  464.006  550.563   \n",
       "1  2.088  6  6960.180  1376.166  6828.469  28.204  28.204  635.401  581.658   \n",
       "2  3.144  9  8379.229  1386.757  7111.811  60.358  60.358  606.002  587.587   \n",
       "\n",
       "     p48     p2   pexh     tic     mf   y_1    y_2  \n",
       "0  1.096  5.947  1.019   7.137  0.082  0.95  0.975  \n",
       "1  1.331  7.282  1.019  10.655  0.287  0.95  0.975  \n",
       "2  1.389  7.574  1.020  13.086  0.259  0.95  0.975  "
      ]
     },
     "execution_count": 7,
     "metadata": {},
     "output_type": "execute_result"
    }
   ],
   "source": [
    "df.drop(['t1','p1'], axis=1, inplace=True)\n",
    "df.head(3)"
   ]
  },
  {
   "cell_type": "code",
   "execution_count": 8,
   "id": "115a618a",
   "metadata": {},
   "outputs": [
    {
     "data": {
      "text/html": [
       "<div>\n",
       "<style scoped>\n",
       "    .dataframe tbody tr th:only-of-type {\n",
       "        vertical-align: middle;\n",
       "    }\n",
       "\n",
       "    .dataframe tbody tr th {\n",
       "        vertical-align: top;\n",
       "    }\n",
       "\n",
       "    .dataframe thead th {\n",
       "        text-align: right;\n",
       "    }\n",
       "</style>\n",
       "<table border=\"1\" class=\"dataframe\">\n",
       "  <thead>\n",
       "    <tr style=\"text-align: right;\">\n",
       "      <th></th>\n",
       "      <th>lp</th>\n",
       "      <th>v</th>\n",
       "      <th>gtt</th>\n",
       "      <th>gtn</th>\n",
       "      <th>ggn</th>\n",
       "      <th>ts</th>\n",
       "      <th>tp</th>\n",
       "      <th>t48</th>\n",
       "      <th>t2</th>\n",
       "      <th>p48</th>\n",
       "      <th>p2</th>\n",
       "      <th>pexh</th>\n",
       "      <th>tic</th>\n",
       "      <th>mf</th>\n",
       "      <th>y_1</th>\n",
       "      <th>y_2</th>\n",
       "    </tr>\n",
       "  </thead>\n",
       "  <tbody>\n",
       "    <tr>\n",
       "      <th>0</th>\n",
       "      <td>0</td>\n",
       "      <td>0</td>\n",
       "      <td>0</td>\n",
       "      <td>0</td>\n",
       "      <td>0</td>\n",
       "      <td>0</td>\n",
       "      <td>0</td>\n",
       "      <td>0</td>\n",
       "      <td>0</td>\n",
       "      <td>0</td>\n",
       "      <td>0</td>\n",
       "      <td>0</td>\n",
       "      <td>0</td>\n",
       "      <td>0</td>\n",
       "      <td>0</td>\n",
       "      <td>0</td>\n",
       "    </tr>\n",
       "  </tbody>\n",
       "</table>\n",
       "</div>"
      ],
      "text/plain": [
       "   lp  v  gtt  gtn  ggn  ts  tp  t48  t2  p48  p2  pexh  tic  mf  y_1  y_2\n",
       "0   0  0    0    0    0   0   0    0   0    0   0     0    0   0    0    0"
      ]
     },
     "execution_count": 8,
     "metadata": {},
     "output_type": "execute_result"
    }
   ],
   "source": [
    "# checking the number of missing values\n",
    "df.isnull().sum().to_frame().T"
   ]
  },
  {
   "cell_type": "code",
   "execution_count": 9,
   "id": "d1675486",
   "metadata": {},
   "outputs": [
    {
     "data": {
      "image/png": "[encoded data removed]",
      "text/plain": [
       "<Figure size 1152x864 with 2 Axes>"
      ]
     },
     "metadata": {
      "needs_background": "light"
     },
     "output_type": "display_data"
    }
   ],
   "source": [
    "# plotting the correlation matrix\n",
    "plt.figure(figsize=(16,12))\n",
    "sns.heatmap(df.corr('spearman'), cmap='GnBu', annot = True)\n",
    "plt.show()"
   ]
  },
  {
   "cell_type": "markdown",
   "id": "48ba1a9c",
   "metadata": {},
   "source": [
    "As it can be seen from the correlation matrix, the following features have strong linear correlation between each other:\n",
    "\n",
    "lever position and ship speed, \n",
    "gas turbine torque and starboard and portside torques.\n",
    "...\n",
    "\n",
    "All the features are slightly correlated with the target functions.\n",
    "\n",
    "In total, the data is highly correlated, that might cause the problem while fitting the linear model. To avoid the issue, feature selection should be conducted.\n",
    "\n",
    "During the model selection, I tried to fit the models with only 5 selected features (see below), but the accuracy was lower in comparison with the models fitted with all the data presented in the set.\n",
    "\n",
    "For the future analysis, only several features are kept:\n",
    "\n",
    "1. gas turbine shaft torque (as a torque feature)\n",
    "2. turbine exit temperature (as a temperature feature)\n",
    "3. turbine exit pressure (as a pressure feature)\n",
    "4. turbine injecton control (TIC)\n",
    "5. fuel flow\n",
    "\n",
    "Let's take a look at some features distributions."
   ]
  },
  {
   "cell_type": "code",
   "execution_count": 10,
   "id": "077fece5",
   "metadata": {},
   "outputs": [
    {
     "data": {
      "image/png": "[encoded data removed]",
      "text/plain": [
       "<Figure size 432x288 with 1 Axes>"
      ]
     },
     "metadata": {
      "needs_background": "light"
     },
     "output_type": "display_data"
    }
   ],
   "source": [
    "plt.hist(df.gtt, bins=12)\n",
    "plt.grid()\n",
    "plt.show()"
   ]
  },
  {
   "cell_type": "code",
   "execution_count": 11,
   "id": "50fa5d09",
   "metadata": {},
   "outputs": [
    {
     "data": {
      "image/png": "[encoded data removed]",
      "text/plain": [
       "<Figure size 432x288 with 1 Axes>"
      ]
     },
     "metadata": {
      "needs_background": "light"
     },
     "output_type": "display_data"
    }
   ],
   "source": [
    "plt.hist(df.t48, bins=20)\n",
    "plt.grid()\n",
    "plt.show()"
   ]
  },
  {
   "cell_type": "code",
   "execution_count": 12,
   "id": "87d551e3",
   "metadata": {},
   "outputs": [
    {
     "data": {
      "image/png": "[encoded data removed]",
      "text/plain": [
       "<Figure size 432x288 with 1 Axes>"
      ]
     },
     "metadata": {
      "needs_background": "light"
     },
     "output_type": "display_data"
    }
   ],
   "source": [
    "plt.hist(df.p48, bins=10)\n",
    "plt.grid()\n",
    "plt.show()"
   ]
  },
  {
   "cell_type": "markdown",
   "id": "2d4e420c",
   "metadata": {},
   "source": [
    "# 3. Data Preprocessing"
   ]
  },
  {
   "cell_type": "code",
   "execution_count": 13,
   "id": "da259609",
   "metadata": {},
   "outputs": [],
   "source": [
    "X = df.iloc[:,:-2]\n",
    "y_1 = df.iloc[:,-2].values\n",
    "y_2 = df.iloc[:,-1].values"
   ]
  },
  {
   "cell_type": "code",
   "execution_count": 14,
   "id": "6f806413",
   "metadata": {},
   "outputs": [],
   "source": [
    "# scaling the data to have zero mean and unit variance\n",
    "from sklearn.preprocessing import StandardScaler\n",
    "ss = StandardScaler()\n",
    "X = ss.fit_transform(X)"
   ]
  },
  {
   "cell_type": "markdown",
   "id": "c531f8f2",
   "metadata": {},
   "source": [
    "# 4. Model Selection"
   ]
  },
  {
   "cell_type": "markdown",
   "id": "8107beed",
   "metadata": {},
   "source": [
    "The following models are built and evaluated in order to choose different approaches to regression problem:\n",
    "\n",
    "1. Predict compressor & turbine decay coefficient using Linear regression (1st model).\n",
    "2. Predict compressor & turbine decay coefficient using any of supervised learning algorithm of your choice. (2nd model), i.e. Random Forest Regressor"
   ]
  },
  {
   "cell_type": "code",
   "execution_count": 15,
   "id": "a6d3d62a",
   "metadata": {},
   "outputs": [],
   "source": [
    "from sklearn.linear_model import LinearRegression, Ridge\n",
    "from sklearn.ensemble import RandomForestRegressor\n",
    "from sklearn.model_selection import GridSearchCV, cross_val_score, train_test_split\n",
    "from sklearn.metrics import mean_squared_error, mean_absolute_error"
   ]
  },
  {
   "cell_type": "markdown",
   "id": "dd346c67",
   "metadata": {},
   "source": [
    "# Linear Regression Model"
   ]
  },
  {
   "cell_type": "code",
   "execution_count": 16,
   "id": "0f96fe02",
   "metadata": {},
   "outputs": [
    {
     "name": "stderr",
     "output_type": "stream",
     "text": [
      "[Parallel(n_jobs=-1)]: Using backend LokyBackend with 4 concurrent workers.\n",
      "[Parallel(n_jobs=-1)]: Done  10 out of  10 | elapsed:    1.2s finished\n"
     ]
    },
    {
     "data": {
      "text/plain": [
       "-0.0050096345344464634"
      ]
     },
     "execution_count": 16,
     "metadata": {},
     "output_type": "execute_result"
    }
   ],
   "source": [
    "lr = LinearRegression(n_jobs=-1)\n",
    "cross_val_score(lr, X, y_1, scoring='neg_mean_absolute_error', cv=10, n_jobs=-1, verbose=1).mean()"
   ]
  },
  {
   "cell_type": "markdown",
   "id": "1973fe8b",
   "metadata": {},
   "source": [
    "# Random Forest Regressor Model"
   ]
  },
  {
   "cell_type": "code",
   "execution_count": 17,
   "id": "f8726ebd",
   "metadata": {},
   "outputs": [
    {
     "name": "stdout",
     "output_type": "stream",
     "text": [
      "Fitting 5 folds for each of 4 candidates, totalling 20 fits\n"
     ]
    },
    {
     "data": {
      "text/html": [
       "<style>#sk-container-id-1 {color: black;background-color: white;}#sk-container-id-1 pre{padding: 0;}#sk-container-id-1 div.sk-toggleable {background-color: white;}#sk-container-id-1 label.sk-toggleable__label {cursor: pointer;display: block;width: 100%;margin-bottom: 0;padding: 0.3em;box-sizing: border-box;text-align: center;}#sk-container-id-1 label.sk-toggleable__label-arrow:before {content: \"▸\";float: left;margin-right: 0.25em;color: #696969;}#sk-container-id-1 label.sk-toggleable__label-arrow:hover:before {color: black;}#sk-container-id-1 div.sk-estimator:hover label.sk-toggleable__label-arrow:before {color: black;}#sk-container-id-1 div.sk-toggleable__content {max-height: 0;max-width: 0;overflow: hidden;text-align: left;background-color: #f0f8ff;}#sk-container-id-1 div.sk-toggleable__content pre {margin: 0.2em;color: black;border-radius: 0.25em;background-color: #f0f8ff;}#sk-container-id-1 input.sk-toggleable__control:checked~div.sk-toggleable__content {max-height: 200px;max-width: 100%;overflow: auto;}#sk-container-id-1 input.sk-toggleable__control:checked~label.sk-toggleable__label-arrow:before {content: \"▾\";}#sk-container-id-1 div.sk-estimator input.sk-toggleable__control:checked~label.sk-toggleable__label {background-color: #d4ebff;}#sk-container-id-1 div.sk-label input.sk-toggleable__control:checked~label.sk-toggleable__label {background-color: #d4ebff;}#sk-container-id-1 input.sk-hidden--visually {border: 0;clip: rect(1px 1px 1px 1px);clip: rect(1px, 1px, 1px, 1px);height: 1px;margin: -1px;overflow: hidden;padding: 0;position: absolute;width: 1px;}#sk-container-id-1 div.sk-estimator {font-family: monospace;background-color: #f0f8ff;border: 1px dotted black;border-radius: 0.25em;box-sizing: border-box;margin-bottom: 0.5em;}#sk-container-id-1 div.sk-estimator:hover {background-color: #d4ebff;}#sk-container-id-1 div.sk-parallel-item::after {content: \"\";width: 100%;border-bottom: 1px solid gray;flex-grow: 1;}#sk-container-id-1 div.sk-label:hover label.sk-toggleable__label {background-color: #d4ebff;}#sk-container-id-1 div.sk-serial::before {content: \"\";position: absolute;border-left: 1px solid gray;box-sizing: border-box;top: 0;bottom: 0;left: 50%;z-index: 0;}#sk-container-id-1 div.sk-serial {display: flex;flex-direction: column;align-items: center;background-color: white;padding-right: 0.2em;padding-left: 0.2em;position: relative;}#sk-container-id-1 div.sk-item {position: relative;z-index: 1;}#sk-container-id-1 div.sk-parallel {display: flex;align-items: stretch;justify-content: center;background-color: white;position: relative;}#sk-container-id-1 div.sk-item::before, #sk-container-id-1 div.sk-parallel-item::before {content: \"\";position: absolute;border-left: 1px solid gray;box-sizing: border-box;top: 0;bottom: 0;left: 50%;z-index: -1;}#sk-container-id-1 div.sk-parallel-item {display: flex;flex-direction: column;z-index: 1;position: relative;background-color: white;}#sk-container-id-1 div.sk-parallel-item:first-child::after {align-self: flex-end;width: 50%;}#sk-container-id-1 div.sk-parallel-item:last-child::after {align-self: flex-start;width: 50%;}#sk-container-id-1 div.sk-parallel-item:only-child::after {width: 0;}#sk-container-id-1 div.sk-dashed-wrapped {border: 1px dashed gray;margin: 0 0.4em 0.5em 0.4em;box-sizing: border-box;padding-bottom: 0.4em;background-color: white;}#sk-container-id-1 div.sk-label label {font-family: monospace;font-weight: bold;display: inline-block;line-height: 1.2em;}#sk-container-id-1 div.sk-label-container {text-align: center;}#sk-container-id-1 div.sk-container {/* jupyter's `normalize.less` sets `[hidden] { display: none; }` but bootstrap.min.css set `[hidden] { display: none !important; }` so we also need the `!important` here to be able to override the default hidden behavior on the sphinx rendered scikit-learn.org. See: https://github.com/scikit-learn/scikit-learn/issues/21755 */display: inline-block !important;position: relative;}#sk-container-id-1 div.sk-text-repr-fallback {display: none;}</style><div id=\"sk-container-id-1\" class=\"sk-top-container\"><div class=\"sk-text-repr-fallback\"><pre>RandomForestRegressor(n_estimators=250)</pre><b>In a Jupyter environment, please rerun this cell to show the HTML representation or trust the notebook. <br />On GitHub, the HTML representation is unable to render, please try loading this page with nbviewer.org.</b></div><div class=\"sk-container\" hidden><div class=\"sk-item\"><div class=\"sk-estimator sk-toggleable\"><input class=\"sk-toggleable__control sk-hidden--visually\" id=\"sk-estimator-id-1\" type=\"checkbox\" checked><label for=\"sk-estimator-id-1\" class=\"sk-toggleable__label sk-toggleable__label-arrow\">RandomForestRegressor</label><div class=\"sk-toggleable__content\"><pre>RandomForestRegressor(n_estimators=250)</pre></div></div></div></div></div>"
      ],
      "text/plain": [
       "RandomForestRegressor(n_estimators=250)"
      ]
     },
     "execution_count": 17,
     "metadata": {},
     "output_type": "execute_result"
    }
   ],
   "source": [
    "grid = {'n_estimators':[100, 150, 200, 250]}\n",
    "rf = GridSearchCV(RandomForestRegressor(), grid, n_jobs=-1, cv=5, verbose=1)\n",
    "rf.fit(X, y_1)\n",
    "rf.best_estimator_"
   ]
  },
  {
   "cell_type": "code",
   "execution_count": 18,
   "id": "f18ef42c",
   "metadata": {},
   "outputs": [
    {
     "name": "stderr",
     "output_type": "stream",
     "text": [
      "[Parallel(n_jobs=-1)]: Using backend LokyBackend with 4 concurrent workers.\n",
      "[Parallel(n_jobs=-1)]: Done  10 out of  10 | elapsed:  1.3min finished\n"
     ]
    },
    {
     "data": {
      "text/plain": [
       "-0.002020910881313614"
      ]
     },
     "execution_count": 18,
     "metadata": {},
     "output_type": "execute_result"
    }
   ],
   "source": [
    "cross_val_score(rf.best_estimator_, X, y_1, scoring='neg_mean_absolute_error', cv=10, n_jobs=-1, verbose=1).mean()"
   ]
  },
  {
   "cell_type": "markdown",
   "id": "27938672",
   "metadata": {},
   "source": [
    "# 5. Final Prediction"
   ]
  },
  {
   "cell_type": "code",
   "execution_count": 19,
   "id": "f2a5334b",
   "metadata": {},
   "outputs": [],
   "source": [
    "# ML algorithms prediction function\n",
    "def predict(algo, X, y, test_size=0.2):\n",
    "    X_train, X_test, y_train, y_test = train_test_split(X, y, test_size=test_size)\n",
    "    algo.fit(X_train, y_train)\n",
    "    y_pred = algo.predict(X_test)\n",
    "    print('MSE:', mean_squared_error(y_test, y_pred))\n",
    "    print('MAE:', mean_absolute_error(y_test, y_pred))\n",
    "    df = pd.DataFrame([y_test, y_pred]).T\n",
    "    df.rename(columns={0:'true', 1:'pred'}, inplace=True)\n",
    "    df['error'] = abs(df.pred - df.true).round(4)\n",
    "    df.sort_values('error', ascending = False, inplace=True)\n",
    "    return df"
   ]
  },
  {
   "cell_type": "markdown",
   "id": "6e0439be",
   "metadata": {},
   "source": [
    "# Compressor decay state coefficient prediction"
   ]
  },
  {
   "cell_type": "markdown",
   "id": "4cdc803f",
   "metadata": {},
   "source": [
    "Linear Regression"
   ]
  },
  {
   "cell_type": "code",
   "execution_count": 20,
   "id": "85de0c88",
   "metadata": {},
   "outputs": [
    {
     "name": "stdout",
     "output_type": "stream",
     "text": [
      "MSE: 3.441359132505435e-05\n",
      "MAE: 0.004652031370967987\n"
     ]
    },
    {
     "data": {
      "text/html": [
       "<div>\n",
       "<style scoped>\n",
       "    .dataframe tbody tr th:only-of-type {\n",
       "        vertical-align: middle;\n",
       "    }\n",
       "\n",
       "    .dataframe tbody tr th {\n",
       "        vertical-align: top;\n",
       "    }\n",
       "\n",
       "    .dataframe thead th {\n",
       "        text-align: right;\n",
       "    }\n",
       "</style>\n",
       "<table border=\"1\" class=\"dataframe\">\n",
       "  <thead>\n",
       "    <tr style=\"text-align: right;\">\n",
       "      <th></th>\n",
       "      <th>true</th>\n",
       "      <th>pred</th>\n",
       "      <th>error</th>\n",
       "    </tr>\n",
       "  </thead>\n",
       "  <tbody>\n",
       "    <tr>\n",
       "      <th>43</th>\n",
       "      <td>0.950</td>\n",
       "      <td>0.968786</td>\n",
       "      <td>0.0188</td>\n",
       "    </tr>\n",
       "    <tr>\n",
       "      <th>1342</th>\n",
       "      <td>0.998</td>\n",
       "      <td>0.979303</td>\n",
       "      <td>0.0187</td>\n",
       "    </tr>\n",
       "    <tr>\n",
       "      <th>1761</th>\n",
       "      <td>0.999</td>\n",
       "      <td>0.980444</td>\n",
       "      <td>0.0186</td>\n",
       "    </tr>\n",
       "    <tr>\n",
       "      <th>1870</th>\n",
       "      <td>0.951</td>\n",
       "      <td>0.969488</td>\n",
       "      <td>0.0185</td>\n",
       "    </tr>\n",
       "    <tr>\n",
       "      <th>1410</th>\n",
       "      <td>0.999</td>\n",
       "      <td>0.980499</td>\n",
       "      <td>0.0185</td>\n",
       "    </tr>\n",
       "    <tr>\n",
       "      <th>2114</th>\n",
       "      <td>0.954</td>\n",
       "      <td>0.972424</td>\n",
       "      <td>0.0184</td>\n",
       "    </tr>\n",
       "    <tr>\n",
       "      <th>195</th>\n",
       "      <td>0.950</td>\n",
       "      <td>0.968051</td>\n",
       "      <td>0.0181</td>\n",
       "    </tr>\n",
       "    <tr>\n",
       "      <th>1332</th>\n",
       "      <td>0.997</td>\n",
       "      <td>0.979051</td>\n",
       "      <td>0.0179</td>\n",
       "    </tr>\n",
       "    <tr>\n",
       "      <th>888</th>\n",
       "      <td>0.998</td>\n",
       "      <td>0.980230</td>\n",
       "      <td>0.0178</td>\n",
       "    </tr>\n",
       "    <tr>\n",
       "      <th>52</th>\n",
       "      <td>0.953</td>\n",
       "      <td>0.970794</td>\n",
       "      <td>0.0178</td>\n",
       "    </tr>\n",
       "  </tbody>\n",
       "</table>\n",
       "</div>"
      ],
      "text/plain": [
       "       true      pred   error\n",
       "43    0.950  0.968786  0.0188\n",
       "1342  0.998  0.979303  0.0187\n",
       "1761  0.999  0.980444  0.0186\n",
       "1870  0.951  0.969488  0.0185\n",
       "1410  0.999  0.980499  0.0185\n",
       "2114  0.954  0.972424  0.0184\n",
       "195   0.950  0.968051  0.0181\n",
       "1332  0.997  0.979051  0.0179\n",
       "888   0.998  0.980230  0.0178\n",
       "52    0.953  0.970794  0.0178"
      ]
     },
     "execution_count": 20,
     "metadata": {},
     "output_type": "execute_result"
    }
   ],
   "source": [
    "algo = LinearRegression(n_jobs=-1)\n",
    "predict(algo, X, y_1).head(10)"
   ]
  },
  {
   "cell_type": "markdown",
   "id": "0c34a8cd",
   "metadata": {},
   "source": [
    "Random Forest Regressor"
   ]
  },
  {
   "cell_type": "code",
   "execution_count": 21,
   "id": "4840ac12",
   "metadata": {},
   "outputs": [
    {
     "name": "stdout",
     "output_type": "stream",
     "text": [
      "MSE: 1.1976629334822397e-06\n",
      "MAE: 0.00046328725038401143\n"
     ]
    },
    {
     "data": {
      "text/html": [
       "<div>\n",
       "<style scoped>\n",
       "    .dataframe tbody tr th:only-of-type {\n",
       "        vertical-align: middle;\n",
       "    }\n",
       "\n",
       "    .dataframe tbody tr th {\n",
       "        vertical-align: top;\n",
       "    }\n",
       "\n",
       "    .dataframe thead th {\n",
       "        text-align: right;\n",
       "    }\n",
       "</style>\n",
       "<table border=\"1\" class=\"dataframe\">\n",
       "  <thead>\n",
       "    <tr style=\"text-align: right;\">\n",
       "      <th></th>\n",
       "      <th>true</th>\n",
       "      <th>pred</th>\n",
       "      <th>error</th>\n",
       "    </tr>\n",
       "  </thead>\n",
       "  <tbody>\n",
       "    <tr>\n",
       "      <th>1248</th>\n",
       "      <td>1.000</td>\n",
       "      <td>0.977307</td>\n",
       "      <td>0.0227</td>\n",
       "    </tr>\n",
       "    <tr>\n",
       "      <th>566</th>\n",
       "      <td>1.000</td>\n",
       "      <td>0.977513</td>\n",
       "      <td>0.0225</td>\n",
       "    </tr>\n",
       "    <tr>\n",
       "      <th>750</th>\n",
       "      <td>0.998</td>\n",
       "      <td>0.986520</td>\n",
       "      <td>0.0115</td>\n",
       "    </tr>\n",
       "    <tr>\n",
       "      <th>1040</th>\n",
       "      <td>0.999</td>\n",
       "      <td>0.989753</td>\n",
       "      <td>0.0092</td>\n",
       "    </tr>\n",
       "    <tr>\n",
       "      <th>895</th>\n",
       "      <td>0.995</td>\n",
       "      <td>0.985967</td>\n",
       "      <td>0.0090</td>\n",
       "    </tr>\n",
       "    <tr>\n",
       "      <th>1082</th>\n",
       "      <td>0.966</td>\n",
       "      <td>0.973780</td>\n",
       "      <td>0.0078</td>\n",
       "    </tr>\n",
       "    <tr>\n",
       "      <th>488</th>\n",
       "      <td>0.996</td>\n",
       "      <td>0.988527</td>\n",
       "      <td>0.0075</td>\n",
       "    </tr>\n",
       "    <tr>\n",
       "      <th>2087</th>\n",
       "      <td>0.992</td>\n",
       "      <td>0.984993</td>\n",
       "      <td>0.0070</td>\n",
       "    </tr>\n",
       "    <tr>\n",
       "      <th>2188</th>\n",
       "      <td>0.969</td>\n",
       "      <td>0.975933</td>\n",
       "      <td>0.0069</td>\n",
       "    </tr>\n",
       "    <tr>\n",
       "      <th>14</th>\n",
       "      <td>0.998</td>\n",
       "      <td>0.991387</td>\n",
       "      <td>0.0066</td>\n",
       "    </tr>\n",
       "  </tbody>\n",
       "</table>\n",
       "</div>"
      ],
      "text/plain": [
       "       true      pred   error\n",
       "1248  1.000  0.977307  0.0227\n",
       "566   1.000  0.977513  0.0225\n",
       "750   0.998  0.986520  0.0115\n",
       "1040  0.999  0.989753  0.0092\n",
       "895   0.995  0.985967  0.0090\n",
       "1082  0.966  0.973780  0.0078\n",
       "488   0.996  0.988527  0.0075\n",
       "2087  0.992  0.984993  0.0070\n",
       "2188  0.969  0.975933  0.0069\n",
       "14    0.998  0.991387  0.0066"
      ]
     },
     "execution_count": 21,
     "metadata": {},
     "output_type": "execute_result"
    }
   ],
   "source": [
    "algo = RandomForestRegressor(n_estimators=150)\n",
    "predict(algo, X, y_1).head(10)"
   ]
  },
  {
   "cell_type": "markdown",
   "id": "7334f74a",
   "metadata": {},
   "source": [
    "# Turbine decay state coefficient prediction"
   ]
  },
  {
   "cell_type": "markdown",
   "id": "a046a607",
   "metadata": {},
   "source": [
    "Linear Regression"
   ]
  },
  {
   "cell_type": "code",
   "execution_count": 22,
   "id": "ce5110b0",
   "metadata": {},
   "outputs": [
    {
     "name": "stdout",
     "output_type": "stream",
     "text": [
      "MSE: 4.680821745012341e-06\n",
      "MAE: 0.0016461997975821012\n"
     ]
    },
    {
     "data": {
      "text/html": [
       "<div>\n",
       "<style scoped>\n",
       "    .dataframe tbody tr th:only-of-type {\n",
       "        vertical-align: middle;\n",
       "    }\n",
       "\n",
       "    .dataframe tbody tr th {\n",
       "        vertical-align: top;\n",
       "    }\n",
       "\n",
       "    .dataframe thead th {\n",
       "        text-align: right;\n",
       "    }\n",
       "</style>\n",
       "<table border=\"1\" class=\"dataframe\">\n",
       "  <thead>\n",
       "    <tr style=\"text-align: right;\">\n",
       "      <th></th>\n",
       "      <th>true</th>\n",
       "      <th>pred</th>\n",
       "      <th>error</th>\n",
       "    </tr>\n",
       "  </thead>\n",
       "  <tbody>\n",
       "    <tr>\n",
       "      <th>1901</th>\n",
       "      <td>0.999</td>\n",
       "      <td>0.989812</td>\n",
       "      <td>0.0092</td>\n",
       "    </tr>\n",
       "    <tr>\n",
       "      <th>819</th>\n",
       "      <td>0.994</td>\n",
       "      <td>0.985035</td>\n",
       "      <td>0.0090</td>\n",
       "    </tr>\n",
       "    <tr>\n",
       "      <th>937</th>\n",
       "      <td>0.975</td>\n",
       "      <td>0.983874</td>\n",
       "      <td>0.0089</td>\n",
       "    </tr>\n",
       "    <tr>\n",
       "      <th>415</th>\n",
       "      <td>0.993</td>\n",
       "      <td>0.984072</td>\n",
       "      <td>0.0089</td>\n",
       "    </tr>\n",
       "    <tr>\n",
       "      <th>1751</th>\n",
       "      <td>0.996</td>\n",
       "      <td>0.987465</td>\n",
       "      <td>0.0085</td>\n",
       "    </tr>\n",
       "    <tr>\n",
       "      <th>1124</th>\n",
       "      <td>0.999</td>\n",
       "      <td>0.990676</td>\n",
       "      <td>0.0083</td>\n",
       "    </tr>\n",
       "    <tr>\n",
       "      <th>2096</th>\n",
       "      <td>0.992</td>\n",
       "      <td>0.983793</td>\n",
       "      <td>0.0082</td>\n",
       "    </tr>\n",
       "    <tr>\n",
       "      <th>1188</th>\n",
       "      <td>0.994</td>\n",
       "      <td>0.985834</td>\n",
       "      <td>0.0082</td>\n",
       "    </tr>\n",
       "    <tr>\n",
       "      <th>1947</th>\n",
       "      <td>0.976</td>\n",
       "      <td>0.983972</td>\n",
       "      <td>0.0080</td>\n",
       "    </tr>\n",
       "    <tr>\n",
       "      <th>760</th>\n",
       "      <td>0.980</td>\n",
       "      <td>0.987717</td>\n",
       "      <td>0.0077</td>\n",
       "    </tr>\n",
       "  </tbody>\n",
       "</table>\n",
       "</div>"
      ],
      "text/plain": [
       "       true      pred   error\n",
       "1901  0.999  0.989812  0.0092\n",
       "819   0.994  0.985035  0.0090\n",
       "937   0.975  0.983874  0.0089\n",
       "415   0.993  0.984072  0.0089\n",
       "1751  0.996  0.987465  0.0085\n",
       "1124  0.999  0.990676  0.0083\n",
       "2096  0.992  0.983793  0.0082\n",
       "1188  0.994  0.985834  0.0082\n",
       "1947  0.976  0.983972  0.0080\n",
       "760   0.980  0.987717  0.0077"
      ]
     },
     "execution_count": 22,
     "metadata": {},
     "output_type": "execute_result"
    }
   ],
   "source": [
    "algo = LinearRegression(n_jobs=-1)\n",
    "predict(algo, X, y_2).head(10)"
   ]
  },
  {
   "cell_type": "markdown",
   "id": "0cb4291f",
   "metadata": {},
   "source": [
    "Random Forest Regressor"
   ]
  },
  {
   "cell_type": "code",
   "execution_count": 23,
   "id": "40cba528",
   "metadata": {},
   "outputs": [
    {
     "name": "stdout",
     "output_type": "stream",
     "text": [
      "MSE: 5.529951124144603e-07\n",
      "MAE: 0.0003369389750034732\n"
     ]
    },
    {
     "data": {
      "text/html": [
       "<div>\n",
       "<style scoped>\n",
       "    .dataframe tbody tr th:only-of-type {\n",
       "        vertical-align: middle;\n",
       "    }\n",
       "\n",
       "    .dataframe tbody tr th {\n",
       "        vertical-align: top;\n",
       "    }\n",
       "\n",
       "    .dataframe thead th {\n",
       "        text-align: right;\n",
       "    }\n",
       "</style>\n",
       "<table border=\"1\" class=\"dataframe\">\n",
       "  <thead>\n",
       "    <tr style=\"text-align: right;\">\n",
       "      <th></th>\n",
       "      <th>true</th>\n",
       "      <th>pred</th>\n",
       "      <th>error</th>\n",
       "    </tr>\n",
       "  </thead>\n",
       "  <tbody>\n",
       "    <tr>\n",
       "      <th>647</th>\n",
       "      <td>0.976</td>\n",
       "      <td>0.987160</td>\n",
       "      <td>0.0112</td>\n",
       "    </tr>\n",
       "    <tr>\n",
       "      <th>200</th>\n",
       "      <td>0.975</td>\n",
       "      <td>0.984127</td>\n",
       "      <td>0.0091</td>\n",
       "    </tr>\n",
       "    <tr>\n",
       "      <th>2203</th>\n",
       "      <td>0.980</td>\n",
       "      <td>0.987320</td>\n",
       "      <td>0.0073</td>\n",
       "    </tr>\n",
       "    <tr>\n",
       "      <th>1278</th>\n",
       "      <td>0.978</td>\n",
       "      <td>0.985167</td>\n",
       "      <td>0.0072</td>\n",
       "    </tr>\n",
       "    <tr>\n",
       "      <th>2054</th>\n",
       "      <td>0.975</td>\n",
       "      <td>0.981160</td>\n",
       "      <td>0.0062</td>\n",
       "    </tr>\n",
       "    <tr>\n",
       "      <th>1283</th>\n",
       "      <td>0.977</td>\n",
       "      <td>0.982473</td>\n",
       "      <td>0.0055</td>\n",
       "    </tr>\n",
       "    <tr>\n",
       "      <th>490</th>\n",
       "      <td>0.990</td>\n",
       "      <td>0.984547</td>\n",
       "      <td>0.0055</td>\n",
       "    </tr>\n",
       "    <tr>\n",
       "      <th>1710</th>\n",
       "      <td>0.975</td>\n",
       "      <td>0.980167</td>\n",
       "      <td>0.0052</td>\n",
       "    </tr>\n",
       "    <tr>\n",
       "      <th>401</th>\n",
       "      <td>1.000</td>\n",
       "      <td>0.995187</td>\n",
       "      <td>0.0048</td>\n",
       "    </tr>\n",
       "    <tr>\n",
       "      <th>366</th>\n",
       "      <td>1.000</td>\n",
       "      <td>0.995260</td>\n",
       "      <td>0.0047</td>\n",
       "    </tr>\n",
       "  </tbody>\n",
       "</table>\n",
       "</div>"
      ],
      "text/plain": [
       "       true      pred   error\n",
       "647   0.976  0.987160  0.0112\n",
       "200   0.975  0.984127  0.0091\n",
       "2203  0.980  0.987320  0.0073\n",
       "1278  0.978  0.985167  0.0072\n",
       "2054  0.975  0.981160  0.0062\n",
       "1283  0.977  0.982473  0.0055\n",
       "490   0.990  0.984547  0.0055\n",
       "1710  0.975  0.980167  0.0052\n",
       "401   1.000  0.995187  0.0048\n",
       "366   1.000  0.995260  0.0047"
      ]
     },
     "execution_count": 23,
     "metadata": {},
     "output_type": "execute_result"
    }
   ],
   "source": [
    "algo = RandomForestRegressor(n_estimators=150)\n",
    "predict(algo, X, y_2).head(10)"
   ]
  },
  {
   "cell_type": "markdown",
   "id": "c719a4e2",
   "metadata": {},
   "source": [
    "# 6. Conclusion"
   ]
  },
  {
   "cell_type": "markdown",
   "id": "b216fe70",
   "metadata": {},
   "source": [
    "During the project work, the propulsion plants preventive maintenance possibility was examined. The gas compressor and turbine decay state coefficients were predicted based on the Data Driven Model GT parameters.\n",
    "\n",
    "The model showed the best results is Random Forest algorithm with the performance: MSE = 9.5e-07, and MAE = 0.0005 for Compressor Decay State Coefficient; MSE = 4.2e-07, and MAE = 0.0003 for Turbine Decay State Coefficient.\n",
    "    \n",
    "The performance of each model is accurate enough to be used in the industrial applications. The final model can be chosen between the explored based on the time and power efficiency.\n",
    "\n",
    "It turned out, that the models fitted with the 14 features (all except constant compressor inlet air temperature and pressure features) show more accurate results than the ones fitted with the chosen set of 5 parameters (in accordance with the correlation matrix).    "
   ]
  }
 ],
 "metadata": {
  "kernelspec": {
   "display_name": "Python 3 (ipykernel)",
   "language": "python",
   "name": "python3"
  },
  "language_info": {
   "codemirror_mode": {
    "name": "ipython",
    "version": 3
   },
   "file_extension": ".py",
   "mimetype": "text/x-python",
   "name": "python",
   "nbconvert_exporter": "python",
   "pygments_lexer": "ipython3",
   "version": "3.10.5"
  }
 },
 "nbformat": 4,
 "nbformat_minor": 5
}
